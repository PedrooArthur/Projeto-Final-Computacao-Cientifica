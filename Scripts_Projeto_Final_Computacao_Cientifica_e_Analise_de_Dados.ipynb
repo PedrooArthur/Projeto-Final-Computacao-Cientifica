{
 "cells": [
  {
   "cell_type": "code",
   "execution_count": null,
   "metadata": {
    "id": "NeWLpu6uAxwc"
   },
   "outputs": [],
   "source": [
    "from sympy import init_printing\n",
    "init_printing(use_latex='png', scale=1.05, order='grlex',\n",
    "              forecolor='Black', backcolor='White', fontsize=10)\n",
    "\n",
    "from sympy import *\n",
    "from sympy import diff\n",
    "x,y,c,a = symbols('x y c a')\n",
    "import matplotlib.pyplot as plt\n",
    "import math as math\n",
    "import numpy as np\n",
    "import sympy as sp\n",
    "\n",
    "from sklearn.datasets import load_digits\n",
    "digits = load_digits()\n"
   ]
  },
  {
   "cell_type": "code",
   "execution_count": null,
   "metadata": {
    "colab": {
     "base_uri": "https://localhost:8080/",
     "height": 430
    },
    "id": "skJ8W17xx0qy",
    "outputId": "9f647a6f-1faf-46f0-b576-7ec724769e70"
   },
   "outputs": [
    {
     "data": {
      "image/png": "[encoded data removed]",
      "text/plain": [
       "<Figure size 640x480 with 1 Axes>"
      ]
     },
     "metadata": {},
     "output_type": "display_data"
    }
   ],
   "source": [
    "\n",
    "# Data\n",
    "x = [0 , 10, 20, 30, 40, 50, 60, 70, 80 , 90 , 100]\n",
    "y = [0 , 0, 1, 0, 0, 1, 0, 1, 1 , 1 , 1] ## Temos uma incidência de uma determinada doença\n",
    "\n",
    "fig, ax = plt.subplots()\n",
    "\n",
    "\n",
    "ax.scatter(x, y)\n",
    "ax.set( yticks =[0,1] , xticks = [0 , 10, 20, 30, 40, 50, 60, 70, 80 , 90 , 100])\n",
    "\n",
    "\n",
    "plt.show()"
   ]
  },
  {
   "cell_type": "code",
   "execution_count": null,
   "metadata": {
    "id": "N1iiczzSA-ea"
   },
   "outputs": [],
   "source": [
    "f =  1/(1+ math.e**((-1)*(a + c*x)))"
   ]
  },
  {
   "cell_type": "code",
   "execution_count": null,
   "metadata": {
    "colab": {
     "base_uri": "https://localhost:8080/"
    },
    "id": "uBDMe4zIIigl",
    "outputId": "b23ffaa3-21c4-4cfe-e91e-83b2413e483e"
   },
   "outputs": [
    {
     "name": "stdout",
     "output_type": "stream",
     "text": [
      "[0.0, 0.1, 0.2, 0.3, 0.4, 0.5, 0.6, 0.7, 0.8, 0.9, 1.0]\n"
     ]
    }
   ],
   "source": [
    "x = [0 , 10, 20, 30, 40, 50, 60, 70, 80 , 90 , 100]\n",
    "x_min = min(x)\n",
    "x_max = max(x)\n",
    "x_norm = [(xi - x_min) / (x_max - x_min) for xi in x]\n",
    "print(x_norm)"
   ]
  },
  {
   "cell_type": "code",
   "execution_count": null,
   "metadata": {
    "id": "hf-ZtyfSvJRh"
   },
   "outputs": [],
   "source": [
    "def f(x, y):\n",
    "   return -1/11 * (y*sp.log(1/(1+sp.exp((c + a*x)))) + (1 - y)*sp.log(1 - 1/(1+sp.exp((c + a*x)))))\n"
   ]
  },
  {
   "cell_type": "code",
   "execution_count": null,
   "metadata": {
    "id": "4S3xEPKW7sNQ"
   },
   "outputs": [],
   "source": [
    "def soma_erro(f, list_x, list_y, r , t):\n",
    "  i = 0\n",
    "  erro_coef1 = 0\n",
    "  erro_coef2 = 0\n",
    "  while i < len(list_x):\n",
    "   erro_coef1 += diff(f(list_x[i], list_y[i]), c).subs({c: r, a:t}).evalf()\n",
    "   erro_coef2 += diff(f(list_x[i], list_y[i]),a).subs({c:r , a:t}).evalf()\n",
    "   i +=1\n",
    "\n",
    "  return erro_coef1 , erro_coef2"
   ]
  },
  {
   "cell_type": "code",
   "execution_count": null,
   "metadata": {
    "id": "aUjyuBmFKAHQ"
   },
   "outputs": [],
   "source": [
    "list_x = [0.0, 0.1, 0.2, 0.3, 0.4, 0.5, 0.6, 0.7, 0.8, 0.9, 1.0]\n",
    "list_y = [0 , 0, 1, 0, 0, 1, 0, 1, 1 , 1 , 1]"
   ]
  },
  {
   "cell_type": "code",
   "execution_count": null,
   "metadata": {
    "id": "Dbo-sFykCWUi"
   },
   "outputs": [],
   "source": [
    "def g(f , r , t):\n",
    "\n",
    "  list_x = [0.0, 0.1, 0.2, 0.3, 0.4, 0.5, 0.6, 0.7, 0.8, 0.9, 1.0]\n",
    "  list_y = [0 , 0, 1, 0, 0, 1, 0, 1, 1 , 1 , 1]\n",
    "  g1, g2 = soma_erro(f , list_x , list_y , r , t )\n",
    "\n",
    "  return np.array([g1, g2])\n",
    "\n"
   ]
  },
  {
   "cell_type": "code",
   "execution_count": null,
   "metadata": {
    "id": "Bqe8rtsDBhYI"
   },
   "outputs": [],
   "source": [
    "def grad( f , g , b , p , err):\n",
    "\n",
    "  list_x = [0.0, 0.1, 0.2, 0.3, 0.4, 0.5, 0.6, 0.7, 0.8, 0.9, 1.0]\n",
    "  list_y = [0 , 0, 1, 0, 0, 1, 0, 1, 1 , 1 , 1]\n",
    "\n",
    "  erro = 1\n",
    "  i = 0\n",
    "  z = np.array([0,0])\n",
    "  while erro > err:\n",
    "    z = b\n",
    "    b = b - p * g(f, b[0], b[1])\n",
    "    g1 , g2 = soma_erro(f , list_x , list_y , b[0] ,b[1])\n",
    "    err = g1**2 + g2**2\n",
    "    i+=1\n",
    "  return b\n",
    "\n"
   ]
  },
  {
   "cell_type": "code",
   "execution_count": null,
   "metadata": {
    "id": "I7nttdOscJlh"
   },
   "outputs": [],
   "source": [
    "b = np.array([0.1,0.2])"
   ]
  },
  {
   "cell_type": "code",
   "execution_count": null,
   "metadata": {
    "id": "AgQfXAR9asnz"
   },
   "outputs": [],
   "source": [
    "grad(f , g , b , 1 , 0.06)"
   ]
  },
  {
   "cell_type": "code",
   "execution_count": null,
   "metadata": {
    "colab": {
     "base_uri": "https://localhost:8080/"
    },
    "id": "sBzjzTuGHcme",
    "outputId": "d20ce822-e390-4cee-f44d-5f967b26f0ff"
   },
   "outputs": [
    {
     "data": {
      "text/plain": [
       "(-0.189913822666978, -0.131870750868469)"
      ]
     },
     "execution_count": 547,
     "metadata": {},
     "output_type": "execute_result"
    }
   ],
   "source": [
    "soma_erro(f , list_x , list_y , -4.140601607144454 ,0.08441681110611873)"
   ]
  },
  {
   "cell_type": "code",
   "execution_count": null,
   "metadata": {
    "colab": {
     "base_uri": "https://localhost:8080/"
    },
    "id": "VEdpallrcDEh",
    "outputId": "eeb19bbf-3dd6-4c18-885f-f7a70d121e0f"
   },
   "outputs": [
    {
     "data": {
      "text/plain": [
       "0.05345715497459819"
      ]
     },
     "execution_count": 564,
     "metadata": {},
     "output_type": "execute_result"
    }
   ],
   "source": [
    "(-0.189913822666978)**2 + (-0.131870750868469)**2"
   ]
  },
  {
   "cell_type": "code",
   "execution_count": null,
   "metadata": {
    "colab": {
     "base_uri": "https://localhost:8080/",
     "height": 430
    },
    "id": "-75w7K03_geY",
    "outputId": "1c0c1264-ed98-4eff-b188-b85a89dd7c95"
   },
   "outputs": [
    {
     "data": {
      "image/png": "[encoded data removed]",
      "text/plain": [
       "<Figure size 640x480 with 1 Axes>"
      ]
     },
     "metadata": {},
     "output_type": "display_data"
    }
   ],
   "source": [
    "def f(x):\n",
    "\n",
    " return x**3 + 1\n",
    "x = [0 , 10, 20, 30, 40, 50, 60, 70, 80 , 90 , 100]\n",
    "y = [0 , 0, 1, 0, 0, 1, 0, 1, 1 , 1 , 1]\n",
    "fig, ax = plt.subplots()\n",
    "ax.scatter(x,y)\n",
    "x = np.arange(1,120,0.01)\n",
    "f =  1/(1+ math.e**((-1)*(-4.140601607144454 + 0.08441681110611873*x)))\n",
    "ax.set(yticks = [0,1], xticks = [0 , 10, 20, 30, 40, 50, 60, 70, 80 , 90 , 100])\n",
    "plt.plot(x, f , color = 'r')\n",
    "plt.grid()\n",
    "plt.show()\n"
   ]
  },
  {
   "cell_type": "code",
   "execution_count": null,
   "metadata": {
    "id": "Arao-hvFyDSs"
   },
   "outputs": [],
   "source": [
    "def risco(x):\n",
    "  f =  1/(1+ math.e**((-1)*(-4.140601607144454 + 0.08441681110611873*x)))\n",
    "  return print(\"o risco de se ter diabetes com \", x ,  \"anos de idade é de: \"  , f)"
   ]
  },
  {
   "cell_type": "code",
   "execution_count": null,
   "metadata": {
    "colab": {
     "base_uri": "https://localhost:8080/"
    },
    "id": "PLUUzjBsyKh7",
    "outputId": "918a26a2-31d2-4cf4-cfd4-98f0077b8003"
   },
   "outputs": [
    {
     "name": "stdout",
     "output_type": "stream",
     "text": [
      "o risco de se ter diabetes com  55 anos de idade é de:  0.6230050901935664\n"
     ]
    }
   ],
   "source": [
    "risco(55)"
   ]
  },
  {
   "cell_type": "code",
   "execution_count": null,
   "metadata": {
    "id": "EywBu-9c3Dts"
   },
   "outputs": [],
   "source": [
    "from sklearn.datasets import load_digits\n",
    "from sklearn import datasets\n",
    "from sklearn.metrics import confusion_matrix\n",
    "from sklearn.model_selection import train_test_split\n",
    "from sklearn.metrics import classification_report\n",
    "from sklearn.linear_model import LogisticRegression\n",
    "import warnings\n",
    "warnings.filterwarnings('ignore')"
   ]
  },
  {
   "cell_type": "code",
   "execution_count": null,
   "metadata": {
    "id": "J4TtdOZ5ru5O"
   },
   "outputs": [],
   "source": [
    "digits = datasets.load_digits()"
   ]
  },
  {
   "cell_type": "code",
   "execution_count": null,
   "metadata": {
    "colab": {
     "base_uri": "https://localhost:8080/"
    },
    "id": "UGvnukz637PU",
    "outputId": "2af27da6-651b-4504-8789-cf5f0552567f"
   },
   "outputs": [
    {
     "data": {
      "text/plain": [
       "64"
      ]
     },
     "execution_count": 592,
     "metadata": {},
     "output_type": "execute_result"
    }
   ],
   "source": [
    "np.size(digits.data[0])"
   ]
  },
  {
   "cell_type": "code",
   "execution_count": null,
   "metadata": {
    "id": "cgULtsb74Bb9"
   },
   "outputs": [],
   "source": [
    "entrada = digits.data\n",
    "classific = digits.target"
   ]
  },
  {
   "cell_type": "code",
   "execution_count": null,
   "metadata": {
    "colab": {
     "base_uri": "https://localhost:8080/"
    },
    "id": "KvtW7uO-5sVD",
    "outputId": "2866a170-ee47-4477-b94a-084c5c267715"
   },
   "outputs": [
    {
     "data": {
      "text/plain": [
       "(1797, 64)"
      ]
     },
     "execution_count": 572,
     "metadata": {},
     "output_type": "execute_result"
    }
   ],
   "source": [
    "digits.data.shape"
   ]
  },
  {
   "cell_type": "code",
   "execution_count": null,
   "metadata": {
    "id": "FnthtCEl5umB"
   },
   "outputs": [],
   "source": [
    "entrada_treino, testeEntrada, classific_treino, testeClassific = train_test_split(entrada ,classific,test_size = 0.30, random_state =101)"
   ]
  },
  {
   "cell_type": "code",
   "execution_count": null,
   "metadata": {
    "colab": {
     "base_uri": "https://localhost:8080/"
    },
    "id": "AKlCRKLQoz7X",
    "outputId": "ca47dd4d-136c-4d74-d58c-66c8870a5c56"
   },
   "outputs": [
    {
     "data": {
      "text/plain": [
       "array([ 0.,  0.,  5., 13.,  9.,  1.,  0.,  0.,  0.,  0., 13., 15., 10.,\n",
       "       15.,  5.,  0.,  0.,  3., 15.,  2.,  0., 11.,  8.,  0.,  0.,  4.,\n",
       "       12.,  0.,  0.,  8.,  8.,  0.,  0.,  5.,  8.,  0.,  0.,  9.,  8.,\n",
       "        0.,  0.,  4., 11.,  0.,  1., 12.,  7.,  0.,  0.,  2., 14.,  5.,\n",
       "       10., 12.,  0.,  0.,  0.,  0.,  6., 13., 10.,  0.,  0.,  0.])"
      ]
     },
     "execution_count": 574,
     "metadata": {},
     "output_type": "execute_result"
    }
   ],
   "source": [
    "entrada[0]"
   ]
  },
  {
   "cell_type": "code",
   "execution_count": null,
   "metadata": {
    "colab": {
     "base_uri": "https://localhost:8080/"
    },
    "id": "vFZdcJ14ph3T",
    "outputId": "d64c2b7c-e1a0-4df1-cdde-99a5bab7675e"
   },
   "outputs": [
    {
     "data": {
      "text/plain": [
       "array([0, 1, 2, ..., 8, 9, 8])"
      ]
     },
     "execution_count": 575,
     "metadata": {},
     "output_type": "execute_result"
    }
   ],
   "source": [
    "digits.target"
   ]
  },
  {
   "cell_type": "code",
   "execution_count": null,
   "metadata": {
    "colab": {
     "base_uri": "https://localhost:8080/"
    },
    "id": "tOXACxXNpsbJ",
    "outputId": "a128e114-e71d-4187-99a5-482713ab8348"
   },
   "outputs": [
    {
     "data": {
      "text/plain": [
       "0"
      ]
     },
     "execution_count": 576,
     "metadata": {},
     "output_type": "execute_result"
    }
   ],
   "source": [
    "digits.target[0]"
   ]
  },
  {
   "cell_type": "code",
   "execution_count": null,
   "metadata": {
    "colab": {
     "base_uri": "https://localhost:8080/",
     "height": 447
    },
    "id": "YAYQt5uLpw_m",
    "outputId": "c954d8c2-effc-48c0-97d0-f146fa3365cc"
   },
   "outputs": [
    {
     "data": {
      "text/plain": [
       "<matplotlib.image.AxesImage at 0x7803da2df4f0>"
      ]
     },
     "execution_count": 606,
     "metadata": {},
     "output_type": "execute_result"
    },
    {
     "data": {
      "image/png": "[encoded data removed]",
      "text/plain": [
       "<Figure size 640x480 with 1 Axes>"
      ]
     },
     "metadata": {},
     "output_type": "display_data"
    }
   ],
   "source": [
    "plt.imshow(digits.images[0], cmap = 'gray')"
   ]
  },
  {
   "cell_type": "code",
   "execution_count": null,
   "metadata": {
    "id": "HzLEn8wIh1lo"
   },
   "outputs": [],
   "source": [
    "clf = LogisticRegression(random_state = 0).fit(entrada_treino,classific_treino)"
   ]
  },
  {
   "cell_type": "code",
   "execution_count": null,
   "metadata": {
    "id": "djw1QDyWoA0i"
   },
   "outputs": [],
   "source": [
    "y_test = clf.predict(testeEntrada)"
   ]
  },
  {
   "cell_type": "code",
   "execution_count": null,
   "metadata": {
    "colab": {
     "base_uri": "https://localhost:8080/"
    },
    "id": "6CX9EUZ23GJj",
    "outputId": "368f9d28-f7b4-48c0-b020-e814597dd1c3"
   },
   "outputs": [
    {
     "data": {
      "text/plain": [
       "array([7, 4, 7, 9, 1, 7, 5, 7, 1, 0, 1, 7, 1, 6, 6, 8, 4, 9, 7, 0, 7, 7,\n",
       "       6, 0, 2, 3, 5, 0, 0, 2, 4, 7, 0, 4, 3, 7, 1, 3, 6, 4, 8, 8, 9, 9,\n",
       "       7, 9, 8, 6, 4, 3, 1, 3, 5, 8, 1, 1, 5, 5, 4, 1, 7, 2, 4, 4, 5, 8,\n",
       "       0, 8, 1, 0, 7, 6, 7, 8, 6, 5, 1, 2, 0, 6, 1, 0, 1, 9, 1, 2, 6, 8,\n",
       "       3, 4, 6, 4, 1, 3, 2, 5, 7, 1, 5, 0, 0, 6, 5, 0, 9, 8, 1, 9, 3, 2,\n",
       "       7, 1, 8, 4, 8, 2, 4, 1, 2, 1, 3, 8, 9, 3, 1, 6, 9, 8, 3, 2, 7, 1,\n",
       "       8, 9, 5, 2, 6, 5, 0, 3, 4, 0, 5, 0, 1, 1, 7, 4, 8, 6, 1, 3, 9, 1,\n",
       "       4, 9, 5, 1, 7, 6, 7, 3, 0, 7, 5, 4, 9, 9, 8, 9, 6, 1, 0, 7, 7, 4,\n",
       "       8, 4, 4, 7, 5, 9, 7, 9, 8, 7, 0, 0, 7, 4, 7, 1, 0, 4, 9, 4, 5, 7,\n",
       "       2, 2, 5, 2, 3, 3, 5, 3, 9, 8, 4, 3, 4, 5, 2, 1, 6, 9, 9, 5, 7, 5,\n",
       "       5, 7, 6, 2, 4, 6, 9, 5, 1, 9, 2, 2, 9, 6, 5, 2, 5, 3, 6, 8, 8, 5,\n",
       "       5, 1, 9, 6, 0, 5, 1, 3, 8, 8, 4, 4, 4, 0, 5, 0, 4, 7, 8, 2, 2, 2,\n",
       "       5, 9, 3, 9, 3, 5, 6, 4, 3, 2, 6, 1, 1, 7, 5, 2, 8, 1, 2, 1, 8, 5,\n",
       "       5, 5, 4, 4, 9, 4, 9, 8, 0, 7, 4, 3, 4, 1, 8, 3, 4, 8, 0, 6, 9, 5,\n",
       "       0, 2, 0, 8, 3, 7, 8, 9, 8, 0, 3, 8, 1, 7, 5, 0, 7, 1, 2, 8, 1, 2,\n",
       "       0, 1, 6, 5, 2, 0, 5, 1, 5, 3, 7, 7, 3, 4, 4, 0, 0, 9, 1, 4, 5, 3,\n",
       "       8, 4, 2, 1, 1, 4, 2, 6, 8, 7, 9, 6, 0, 3, 7, 9, 1, 4, 3, 6, 8, 0,\n",
       "       9, 6, 8, 8, 3, 8, 7, 3, 1, 9, 5, 2, 7, 0, 6, 8, 8, 4, 6, 4, 5, 4,\n",
       "       1, 8, 5, 0, 0, 0, 6, 4, 1, 9, 6, 1, 9, 4, 3, 8, 2, 3, 8, 3, 5, 1,\n",
       "       4, 3, 4, 1, 7, 5, 3, 2, 9, 5, 1, 1, 2, 0, 6, 5, 0, 3, 0, 2, 0, 5,\n",
       "       8, 7, 5, 1, 6, 9, 5, 8, 8, 6, 9, 6, 3, 8, 7, 8, 3, 9, 9, 0, 2, 9,\n",
       "       5, 3, 3, 6, 4, 0, 8, 4, 7, 5, 3, 7, 6, 4, 3, 2, 9, 1, 2, 8, 3, 4,\n",
       "       0, 3, 5, 4, 4, 8, 2, 0, 2, 2, 4, 6, 0, 2, 2, 0, 3, 8, 4, 8, 3, 9,\n",
       "       1, 5, 5, 3, 9, 0, 2, 2, 4, 3, 8, 0, 6, 6, 1, 9, 3, 8, 5, 7, 2, 7,\n",
       "       2, 8, 9, 0, 4, 4, 7, 7, 6, 5, 2, 9])"
      ]
     },
     "execution_count": 633,
     "metadata": {},
     "output_type": "execute_result"
    }
   ],
   "source": [
    "y_test"
   ]
  },
  {
   "cell_type": "code",
   "execution_count": null,
   "metadata": {
    "colab": {
     "base_uri": "https://localhost:8080/"
    },
    "id": "6xLsgIQF2nye",
    "outputId": "ccd7632d-a82d-44ef-ed6c-5b166fc8fe43"
   },
   "outputs": [
    {
     "data": {
      "text/plain": [
       "array([[1.43691904e-13, 4.09129606e-10, 1.82168862e-11, ...,\n",
       "        9.99999941e-01, 4.40464811e-10, 5.41342580e-08],\n",
       "       [8.35366745e-11, 3.23972903e-06, 1.00928369e-20, ...,\n",
       "        1.09443028e-10, 8.58755424e-13, 7.18613354e-23],\n",
       "       [1.54587823e-12, 1.76877716e-07, 4.09588109e-07, ...,\n",
       "        9.99962223e-01, 3.17266728e-05, 5.40016424e-06],\n",
       "       ...,\n",
       "       [2.86527077e-07, 1.15328903e-11, 4.85131775e-13, ...,\n",
       "        2.74058111e-09, 2.23988867e-08, 1.64901825e-11],\n",
       "       [9.93766953e-20, 5.73248998e-15, 9.99999982e-01, ...,\n",
       "        4.44998774e-16, 1.04563005e-16, 8.38139177e-16],\n",
       "       [3.42281050e-04, 2.91865662e-10, 4.24512028e-08, ...,\n",
       "        5.86442737e-07, 9.26589155e-05, 9.99442274e-01]])"
      ]
     },
     "execution_count": 636,
     "metadata": {},
     "output_type": "execute_result"
    }
   ],
   "source": [
    "clf.predict_proba(testeEntrada)"
   ]
  },
  {
   "cell_type": "code",
   "execution_count": null,
   "metadata": {
    "colab": {
     "base_uri": "https://localhost:8080/",
     "height": 227
    },
    "id": "uPoGYqPrlbli",
    "outputId": "894c3333-e4f9-4a59-f7c9-0e6d29c2e2cd"
   },
   "outputs": [
    {
     "data": {
      "image/png": "[encoded data removed]",
      "text/plain": [
       "<Figure size 1000x300 with 4 Axes>"
      ]
     },
     "metadata": {},
     "output_type": "display_data"
    }
   ],
   "source": [
    "_, axes = plt.subplots(nrows=1, ncols=4, figsize=(10, 3))\n",
    "for ax, image, predição in zip(axes, testeEntrada, testeClassific):\n",
    "    ax.set_axis_off()\n",
    "    image = image.reshape(8, 8)\n",
    "    ax.imshow(image, cmap=plt.cm.gray_r,)\n",
    "    ax.set_title(f\"Predição: {predição}\")"
   ]
  },
  {
   "cell_type": "code",
   "execution_count": null,
   "metadata": {
    "colab": {
     "base_uri": "https://localhost:8080/"
    },
    "id": "TA46E-zWrGTJ",
    "outputId": "e0582371-2710-47e3-cb93-8fd251e8acf4"
   },
   "outputs": [
    {
     "data": {
      "text/plain": [
       "array([[53,  0,  0,  0,  0,  0,  0,  0,  0,  0],\n",
       "       [ 0, 53,  0,  0,  1,  0,  1,  0,  4,  0],\n",
       "       [ 0,  0, 49,  0,  0,  0,  0,  0,  0,  0],\n",
       "       [ 0,  0,  0, 53,  0,  0,  0,  0,  0,  0],\n",
       "       [ 0,  0,  0,  0, 58,  0,  0,  3,  0,  0],\n",
       "       [ 0,  0,  0,  1,  0, 58,  0,  0,  0,  0],\n",
       "       [ 0,  0,  0,  0,  0,  0, 44,  0,  0,  0],\n",
       "       [ 0,  0,  0,  0,  0,  0,  0, 52,  0,  0],\n",
       "       [ 0,  2,  0,  0,  1,  0,  1,  0, 54,  1],\n",
       "       [ 0,  0,  0,  0,  1,  1,  0,  1,  1, 47]])"
      ]
     },
     "execution_count": 635,
     "metadata": {},
     "output_type": "execute_result"
    }
   ],
   "source": [
    "confusion_matrix(y_test, testeClassific)"
   ]
  }
 ],
 "metadata": {
  "colab": {
   "provenance": []
  },
  "kernelspec": {
   "display_name": "Python 3 (ipykernel)",
   "language": "python",
   "name": "python3"
  },
  "language_info": {
   "codemirror_mode": {
    "name": "ipython",
    "version": 3
   },
   "file_extension": ".py",
   "mimetype": "text/x-python",
   "name": "python",
   "nbconvert_exporter": "python",
   "pygments_lexer": "ipython3",
   "version": "3.10.12"
  }
 },
 "nbformat": 4,
 "nbformat_minor": 1
}
